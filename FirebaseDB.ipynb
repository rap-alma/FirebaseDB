{
  "nbformat": 4,
  "nbformat_minor": 0,
  "metadata": {
    "colab": {
      "provenance": [],
      "toc_visible": true,
      "authorship_tag": "ABX9TyNviEnFAEvlMv6Sv1ZVJhp7",
      "include_colab_link": true
    },
    "kernelspec": {
      "name": "python3",
      "display_name": "Python 3"
    },
    "language_info": {
      "name": "python"
    }
  },
  "cells": [
    {
      "cell_type": "markdown",
      "metadata": {
        "id": "view-in-github",
        "colab_type": "text"
      },
      "source": [
        "<a href=\"https://colab.research.google.com/github/rap-alma/FirebaseDB/blob/main/FirebaseDB.ipynb\" target=\"_parent\"><img src=\"https://colab.research.google.com/assets/colab-badge.svg\" alt=\"Open In Colab\"/></a>"
      ]
    },
    {
      "cell_type": "code",
      "execution_count": null,
      "metadata": {
        "id": "Il6RevXa-S6n"
      },
      "outputs": [],
      "source": [
        "!pip install firebase-admin\n",
        "!pip install pyrebase4\n",
        "\n",
        "import firebase_admin\n",
        "from firebase_admin import credentials \n",
        "from firebase_admin import firestore"
      ]
    },
    {
      "cell_type": "code",
      "source": [
        "from google.colab import files\n",
        "uploaded = files.upload()"
      ],
      "metadata": {
        "id": "66Ip_A3W_Ulw"
      },
      "execution_count": null,
      "outputs": []
    },
    {
      "cell_type": "code",
      "source": [
        "import firebase_admin\n",
        "from firebase_admin import credentials\n",
        "\n",
        "cred = credentials.Certificate(\"/content/estoquebd-4790e-firebase-adminsdk-l96hm-0443f861cc.json\")\n",
        "firebase_admin.initialize_app(cred)\n"
      ],
      "metadata": {
        "colab": {
          "base_uri": "https://localhost:8080/"
        },
        "id": "v1wpjaY8L6zf",
        "outputId": "df5922ee-ccab-49aa-8679-859149ccad92"
      },
      "execution_count": 8,
      "outputs": [
        {
          "output_type": "execute_result",
          "data": {
            "text/plain": [
              "<firebase_admin.App at 0x7f53f98923e0>"
            ]
          },
          "metadata": {},
          "execution_count": 8
        }
      ]
    },
    {
      "cell_type": "code",
      "source": [
        "db = firestore.client()\n",
        "collection_ref = db.collection(u'Boné')"
      ],
      "metadata": {
        "id": "QqCiZZV1hLK-"
      },
      "execution_count": 11,
      "outputs": []
    },
    {
      "cell_type": "code",
      "source": [
        "docs = collection_ref.stream()\n",
        "\n",
        "for doc in docs:\n",
        "\n",
        "  print(f'{doc.id} => {doc.to_dict()}')"
      ],
      "metadata": {
        "colab": {
          "base_uri": "https://localhost:8080/"
        },
        "id": "8B64JIOwiJEQ",
        "outputId": "95af4e5a-5d37-485f-c5c3-0719c623d2cd"
      },
      "execution_count": 13,
      "outputs": [
        {
          "output_type": "stream",
          "name": "stdout",
          "text": [
            "00003 => {'cor': 'preto', 'preço': 30, 'tipo': 'Aba reta'}\n",
            "00004 => {'tipo': 'Aba reta', 'preço': 30, 'cor': 'branco'}\n"
          ]
        }
      ]
    },
    {
      "cell_type": "code",
      "source": [
        "doc_ref = db.collection(u'Boné').document(u'00005')\n",
        "\n",
        "doc_ref.set({\n",
        "u'cor': u'preto',\n",
        "u'tipo': u'Aba curva - adidas',\n",
        "u'preço': 50\n",
        "})"
      ],
      "metadata": {
        "colab": {
          "base_uri": "https://localhost:8080/"
        },
        "id": "UKU7rBCBjKE4",
        "outputId": "866c3496-65ed-4391-922e-db9fe7c4dad8"
      },
      "execution_count": 14,
      "outputs": [
        {
          "output_type": "execute_result",
          "data": {
            "text/plain": [
              "update_time {\n",
              "  seconds: 1685297592\n",
              "  nanos: 486791000\n",
              "}"
            ]
          },
          "metadata": {},
          "execution_count": 14
        }
      ]
    },
    {
      "cell_type": "code",
      "source": [
        "doc_ref = db.collection(u'Boné').document(u'00005')\n",
        "doc_ref.delete()"
      ],
      "metadata": {
        "colab": {
          "base_uri": "https://localhost:8080/"
        },
        "id": "QyKN1dahkRNz",
        "outputId": "30227279-fe2a-4276-ef40-ad867d33b75b"
      },
      "execution_count": 15,
      "outputs": [
        {
          "output_type": "execute_result",
          "data": {
            "text/plain": [
              "DatetimeWithNanoseconds(2023, 5, 28, 18, 27, 20, 456602, tzinfo=datetime.timezone.utc)"
            ]
          },
          "metadata": {},
          "execution_count": 15
        }
      ]
    }
  ]
}